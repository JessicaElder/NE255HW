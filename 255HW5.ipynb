{
 "cells": [
  {
   "cell_type": "code",
   "execution_count": 58,
   "metadata": {},
   "outputs": [],
   "source": [
    "#importing all this fun stuff\n",
    "import pandas as pd\n",
    "import numpy as np\n",
    "import matplotlib.pyplot as plt\n"
   ]
  },
  {
   "cell_type": "code",
   "execution_count": 59,
   "metadata": {},
   "outputs": [
    {
     "data": {
      "text/plain": [
       "Text(0.5, 1.0, 'Rejection Sampling')"
      ]
     },
     "execution_count": 59,
     "metadata": {},
     "output_type": "execute_result"
    },
    {
     "data": {
      "image/png": "[encoded data removed]",
      "text/plain": [
       "<Figure size 432x288 with 1 Axes>"
      ]
     },
     "metadata": {
      "needs_background": "light"
     },
     "output_type": "display_data"
    }
   ],
   "source": [
    "#plotting for problem 1c. \n",
    "\n",
    "#bounding function. always greater than PDF. \n",
    "g = 1.01\n",
    "plt.axhline(y = g, color = 'r', label = 'Bounding Function')\n",
    "\n",
    "#PDF\n",
    "x = (0, .2, .4, .6, .8, 1, 1.2, 1.4)\n",
    "p = np.sin(x)\n",
    "plt.plot(x,p, label = 'PDF')\n",
    "\n",
    "#piecewise function, CDF\n",
    "plt.plot([0, .2],[.2, .2], color = 'g' , label = 'CDF')\n",
    "plt.plot([.2, .4],[.4, .4], color = 'g')\n",
    "plt.plot([.4, .6],[.6, .6], color = 'g')\n",
    "plt.plot([0.6, .8],[.7, .7], color = 'g')\n",
    "plt.plot([0.8, 1],[.84,.84], color = 'g')\n",
    "plt.plot([1, 1.2],[.93, .93], color = 'g')\n",
    "plt.plot([1.2, 1.4],[.98, .98], color = 'g')\n",
    "plt.plot([1.4, 1.6],[1, 1], color = 'g')\n",
    "\n",
    "plt.legend()\n",
    "plt.xlabel('x')\n",
    "plt.ylabel('f(x)')\n",
    "plt.title('Rejection Sampling')"
   ]
  },
  {
   "cell_type": "code",
   "execution_count": 60,
   "metadata": {},
   "outputs": [
    {
     "data": {
      "text/plain": [
       "Counter({True: 53097, False: 46903})"
      ]
     },
     "execution_count": 60,
     "metadata": {},
     "output_type": "execute_result"
    }
   ],
   "source": [
    "#Problem 3. \n",
    "import collections\n",
    "from numpy.random import seed\n",
    "from numpy.random import randint\n",
    "\n",
    "seed(1)\n",
    "InitialLocation = randint(0, 49, 100000)\n",
    "\n",
    "seed(2)\n",
    "FinalLocation = randint(0, 107, 100000)\n",
    "\n",
    "Capture = collections.Counter(57 > FinalLocation)\n",
    "Capture"
   ]
  },
  {
   "cell_type": "code",
   "execution_count": 61,
   "metadata": {},
   "outputs": [
    {
     "data": {
      "text/plain": [
       "Counter({True: 18939})"
      ]
     },
     "execution_count": 61,
     "metadata": {},
     "output_type": "execute_result"
    }
   ],
   "source": [
    "ForwardScatter = collections.Counter((InitialLocation - FinalLocation < 0)) - collections.Counter(FinalLocation < 5) \\\n",
    " - collections.Counter(FinalLocation > 49)\n",
    "ForwardScatter"
   ]
  }
 ],
 "metadata": {
  "kernelspec": {
   "display_name": "Python 3",
   "language": "python",
   "name": "python3"
  },
  "language_info": {
   "codemirror_mode": {
    "name": "ipython",
    "version": 3
   },
   "file_extension": ".py",
   "mimetype": "text/x-python",
   "name": "python",
   "nbconvert_exporter": "python",
   "pygments_lexer": "ipython3",
   "version": "3.7.3"
  }
 },
 "nbformat": 4,
 "nbformat_minor": 2
}
